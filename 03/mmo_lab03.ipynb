{
  "nbformat": 4,
  "nbformat_minor": 0,
  "metadata": {
    "hide_input": false,
    "kernelspec": {
      "display_name": "Python 3",
      "language": "python",
      "name": "python3"
    },
    "language_info": {
      "codemirror_mode": {
        "name": "ipython",
        "version": 3
      },
      "file_extension": ".py",
      "mimetype": "text/x-python",
      "name": "python",
      "nbconvert_exporter": "python",
      "pygments_lexer": "ipython3",
      "version": "3.7.7"
    },
    "varInspector": {
      "cols": {
        "lenName": 16,
        "lenType": 16,
        "lenVar": 40
      },
      "kernels_config": {
        "python": {
          "delete_cmd_postfix": "",
          "delete_cmd_prefix": "del ",
          "library": "var_list.py",
          "varRefreshCmd": "print(var_dic_list())"
        },
        "r": {
          "delete_cmd_postfix": ") ",
          "delete_cmd_prefix": "rm(",
          "library": "var_list.r",
          "varRefreshCmd": "cat(var_dic_list()) "
        }
      },
      "types_to_exclude": [
        "module",
        "function",
        "builtin_function_or_method",
        "instance",
        "_Feature"
      ],
      "window_display": false
    },
    "colab": {
      "name": "mmo-lab03.ipynb",
      "provenance": []
    },
    "widgets": {
      "application/vnd.jupyter.widget-state+json": {
        "a166fd31551a4d5ea84b35ee871cb62a": {
          "model_module": "@jupyter-widgets/controls",
          "model_name": "HBoxModel",
          "state": {
            "_view_name": "HBoxView",
            "_dom_classes": [],
            "_model_name": "HBoxModel",
            "_view_module": "@jupyter-widgets/controls",
            "_model_module_version": "1.5.0",
            "_view_count": null,
            "_view_module_version": "1.5.0",
            "box_style": "",
            "layout": "IPY_MODEL_b7a1dc9d0f514351a8deadcd0ebed403",
            "_model_module": "@jupyter-widgets/controls",
            "children": [
              "IPY_MODEL_636ddcfe6e1e452b8e9f4607181c99f7",
              "IPY_MODEL_4536604dea574a16b2db319e91a3ddc3"
            ]
          }
        },
        "b7a1dc9d0f514351a8deadcd0ebed403": {
          "model_module": "@jupyter-widgets/base",
          "model_name": "LayoutModel",
          "state": {
            "_view_name": "LayoutView",
            "grid_template_rows": null,
            "right": null,
            "justify_content": null,
            "_view_module": "@jupyter-widgets/base",
            "overflow": null,
            "_model_module_version": "1.2.0",
            "_view_count": null,
            "flex_flow": null,
            "width": null,
            "min_width": null,
            "border": null,
            "align_items": null,
            "bottom": null,
            "_model_module": "@jupyter-widgets/base",
            "top": null,
            "grid_column": null,
            "overflow_y": null,
            "overflow_x": null,
            "grid_auto_flow": null,
            "grid_area": null,
            "grid_template_columns": null,
            "flex": null,
            "_model_name": "LayoutModel",
            "justify_items": null,
            "grid_row": null,
            "max_height": null,
            "align_content": null,
            "visibility": null,
            "align_self": null,
            "height": null,
            "min_height": null,
            "padding": null,
            "grid_auto_rows": null,
            "grid_gap": null,
            "max_width": null,
            "order": null,
            "_view_module_version": "1.2.0",
            "grid_template_areas": null,
            "object_position": null,
            "object_fit": null,
            "grid_auto_columns": null,
            "margin": null,
            "display": null,
            "left": null
          }
        },
        "636ddcfe6e1e452b8e9f4607181c99f7": {
          "model_module": "@jupyter-widgets/controls",
          "model_name": "FloatProgressModel",
          "state": {
            "_view_name": "ProgressView",
            "style": "IPY_MODEL_fa865fd1e9ac4742aa1d59de03fd96a0",
            "_dom_classes": [],
            "description": "Progress:: 100%",
            "_model_name": "FloatProgressModel",
            "bar_style": "success",
            "max": 8400,
            "_view_module": "@jupyter-widgets/controls",
            "_model_module_version": "1.5.0",
            "value": 8400,
            "_view_count": null,
            "_view_module_version": "1.5.0",
            "orientation": "horizontal",
            "min": 0,
            "description_tooltip": null,
            "_model_module": "@jupyter-widgets/controls",
            "layout": "IPY_MODEL_6b3e9f2f200d4084b12f40472756ba48"
          }
        },
        "4536604dea574a16b2db319e91a3ddc3": {
          "model_module": "@jupyter-widgets/controls",
          "model_name": "HTMLModel",
          "state": {
            "_view_name": "HTMLView",
            "style": "IPY_MODEL_cca88c8e6e4449149a6de90d76d5df93",
            "_dom_classes": [],
            "description": "",
            "_model_name": "HTMLModel",
            "placeholder": "​",
            "_view_module": "@jupyter-widgets/controls",
            "_model_module_version": "1.5.0",
            "value": " 8400/8400 [00:55&lt;00:00, 152.69it/s]",
            "_view_count": null,
            "_view_module_version": "1.5.0",
            "description_tooltip": null,
            "_model_module": "@jupyter-widgets/controls",
            "layout": "IPY_MODEL_2829544a0c594210ad8deefea565e17e"
          }
        },
        "fa865fd1e9ac4742aa1d59de03fd96a0": {
          "model_module": "@jupyter-widgets/controls",
          "model_name": "ProgressStyleModel",
          "state": {
            "_view_name": "StyleView",
            "_model_name": "ProgressStyleModel",
            "description_width": "initial",
            "_view_module": "@jupyter-widgets/base",
            "_model_module_version": "1.5.0",
            "_view_count": null,
            "_view_module_version": "1.2.0",
            "bar_color": null,
            "_model_module": "@jupyter-widgets/controls"
          }
        },
        "6b3e9f2f200d4084b12f40472756ba48": {
          "model_module": "@jupyter-widgets/base",
          "model_name": "LayoutModel",
          "state": {
            "_view_name": "LayoutView",
            "grid_template_rows": null,
            "right": null,
            "justify_content": null,
            "_view_module": "@jupyter-widgets/base",
            "overflow": null,
            "_model_module_version": "1.2.0",
            "_view_count": null,
            "flex_flow": null,
            "width": null,
            "min_width": null,
            "border": null,
            "align_items": null,
            "bottom": null,
            "_model_module": "@jupyter-widgets/base",
            "top": null,
            "grid_column": null,
            "overflow_y": null,
            "overflow_x": null,
            "grid_auto_flow": null,
            "grid_area": null,
            "grid_template_columns": null,
            "flex": null,
            "_model_name": "LayoutModel",
            "justify_items": null,
            "grid_row": null,
            "max_height": null,
            "align_content": null,
            "visibility": null,
            "align_self": null,
            "height": null,
            "min_height": null,
            "padding": null,
            "grid_auto_rows": null,
            "grid_gap": null,
            "max_width": null,
            "order": null,
            "_view_module_version": "1.2.0",
            "grid_template_areas": null,
            "object_position": null,
            "object_fit": null,
            "grid_auto_columns": null,
            "margin": null,
            "display": null,
            "left": null
          }
        },
        "cca88c8e6e4449149a6de90d76d5df93": {
          "model_module": "@jupyter-widgets/controls",
          "model_name": "DescriptionStyleModel",
          "state": {
            "_view_name": "StyleView",
            "_model_name": "DescriptionStyleModel",
            "description_width": "",
            "_view_module": "@jupyter-widgets/base",
            "_model_module_version": "1.5.0",
            "_view_count": null,
            "_view_module_version": "1.2.0",
            "_model_module": "@jupyter-widgets/controls"
          }
        },
        "2829544a0c594210ad8deefea565e17e": {
          "model_module": "@jupyter-widgets/base",
          "model_name": "LayoutModel",
          "state": {
            "_view_name": "LayoutView",
            "grid_template_rows": null,
            "right": null,
            "justify_content": null,
            "_view_module": "@jupyter-widgets/base",
            "overflow": null,
            "_model_module_version": "1.2.0",
            "_view_count": null,
            "flex_flow": null,
            "width": null,
            "min_width": null,
            "border": null,
            "align_items": null,
            "bottom": null,
            "_model_module": "@jupyter-widgets/base",
            "top": null,
            "grid_column": null,
            "overflow_y": null,
            "overflow_x": null,
            "grid_auto_flow": null,
            "grid_area": null,
            "grid_template_columns": null,
            "flex": null,
            "_model_name": "LayoutModel",
            "justify_items": null,
            "grid_row": null,
            "max_height": null,
            "align_content": null,
            "visibility": null,
            "align_self": null,
            "height": null,
            "min_height": null,
            "padding": null,
            "grid_auto_rows": null,
            "grid_gap": null,
            "max_width": null,
            "order": null,
            "_view_module_version": "1.2.0",
            "grid_template_areas": null,
            "object_position": null,
            "object_fit": null,
            "grid_auto_columns": null,
            "margin": null,
            "display": null,
            "left": null
          }
        },
        "3990981e98bb40cb9385ddd1ee4be7ba": {
          "model_module": "@jupyter-widgets/controls",
          "model_name": "HBoxModel",
          "state": {
            "_view_name": "HBoxView",
            "_dom_classes": [],
            "_model_name": "HBoxModel",
            "_view_module": "@jupyter-widgets/controls",
            "_model_module_version": "1.5.0",
            "_view_count": null,
            "_view_module_version": "1.5.0",
            "box_style": "",
            "layout": "IPY_MODEL_245772ac8907457288f552855b8a10fa",
            "_model_module": "@jupyter-widgets/controls",
            "children": [
              "IPY_MODEL_b7bb9ae80cb64a8082dc143138a94d18",
              "IPY_MODEL_687398cb0f1743888db8a55b65e3f438"
            ]
          }
        },
        "245772ac8907457288f552855b8a10fa": {
          "model_module": "@jupyter-widgets/base",
          "model_name": "LayoutModel",
          "state": {
            "_view_name": "LayoutView",
            "grid_template_rows": null,
            "right": null,
            "justify_content": null,
            "_view_module": "@jupyter-widgets/base",
            "overflow": null,
            "_model_module_version": "1.2.0",
            "_view_count": null,
            "flex_flow": null,
            "width": null,
            "min_width": null,
            "border": null,
            "align_items": null,
            "bottom": null,
            "_model_module": "@jupyter-widgets/base",
            "top": null,
            "grid_column": null,
            "overflow_y": null,
            "overflow_x": null,
            "grid_auto_flow": null,
            "grid_area": null,
            "grid_template_columns": null,
            "flex": null,
            "_model_name": "LayoutModel",
            "justify_items": null,
            "grid_row": null,
            "max_height": null,
            "align_content": null,
            "visibility": null,
            "align_self": null,
            "height": null,
            "min_height": null,
            "padding": null,
            "grid_auto_rows": null,
            "grid_gap": null,
            "max_width": null,
            "order": null,
            "_view_module_version": "1.2.0",
            "grid_template_areas": null,
            "object_position": null,
            "object_fit": null,
            "grid_auto_columns": null,
            "margin": null,
            "display": null,
            "left": null
          }
        },
        "b7bb9ae80cb64a8082dc143138a94d18": {
          "model_module": "@jupyter-widgets/controls",
          "model_name": "FloatProgressModel",
          "state": {
            "_view_name": "ProgressView",
            "style": "IPY_MODEL_b97e1d6d27414694b07613f9c53da4f3",
            "_dom_classes": [],
            "description": "Progress:: 100%",
            "_model_name": "FloatProgressModel",
            "bar_style": "success",
            "max": 3600,
            "_view_module": "@jupyter-widgets/controls",
            "_model_module_version": "1.5.0",
            "value": 3600,
            "_view_count": null,
            "_view_module_version": "1.5.0",
            "orientation": "horizontal",
            "min": 0,
            "description_tooltip": null,
            "_model_module": "@jupyter-widgets/controls",
            "layout": "IPY_MODEL_47419ca7ac5b42dab86fdb221f6de15c"
          }
        },
        "687398cb0f1743888db8a55b65e3f438": {
          "model_module": "@jupyter-widgets/controls",
          "model_name": "HTMLModel",
          "state": {
            "_view_name": "HTMLView",
            "style": "IPY_MODEL_c61351c290144e66a5a6a1b592b8d865",
            "_dom_classes": [],
            "description": "",
            "_model_name": "HTMLModel",
            "placeholder": "​",
            "_view_module": "@jupyter-widgets/controls",
            "_model_module_version": "1.5.0",
            "value": " 3600/3600 [00:19&lt;00:00, 186.52it/s]",
            "_view_count": null,
            "_view_module_version": "1.5.0",
            "description_tooltip": null,
            "_model_module": "@jupyter-widgets/controls",
            "layout": "IPY_MODEL_8a1572d605d54b4ea6bb7d8e3077e0ae"
          }
        },
        "b97e1d6d27414694b07613f9c53da4f3": {
          "model_module": "@jupyter-widgets/controls",
          "model_name": "ProgressStyleModel",
          "state": {
            "_view_name": "StyleView",
            "_model_name": "ProgressStyleModel",
            "description_width": "initial",
            "_view_module": "@jupyter-widgets/base",
            "_model_module_version": "1.5.0",
            "_view_count": null,
            "_view_module_version": "1.2.0",
            "bar_color": null,
            "_model_module": "@jupyter-widgets/controls"
          }
        },
        "47419ca7ac5b42dab86fdb221f6de15c": {
          "model_module": "@jupyter-widgets/base",
          "model_name": "LayoutModel",
          "state": {
            "_view_name": "LayoutView",
            "grid_template_rows": null,
            "right": null,
            "justify_content": null,
            "_view_module": "@jupyter-widgets/base",
            "overflow": null,
            "_model_module_version": "1.2.0",
            "_view_count": null,
            "flex_flow": null,
            "width": null,
            "min_width": null,
            "border": null,
            "align_items": null,
            "bottom": null,
            "_model_module": "@jupyter-widgets/base",
            "top": null,
            "grid_column": null,
            "overflow_y": null,
            "overflow_x": null,
            "grid_auto_flow": null,
            "grid_area": null,
            "grid_template_columns": null,
            "flex": null,
            "_model_name": "LayoutModel",
            "justify_items": null,
            "grid_row": null,
            "max_height": null,
            "align_content": null,
            "visibility": null,
            "align_self": null,
            "height": null,
            "min_height": null,
            "padding": null,
            "grid_auto_rows": null,
            "grid_gap": null,
            "max_width": null,
            "order": null,
            "_view_module_version": "1.2.0",
            "grid_template_areas": null,
            "object_position": null,
            "object_fit": null,
            "grid_auto_columns": null,
            "margin": null,
            "display": null,
            "left": null
          }
        },
        "c61351c290144e66a5a6a1b592b8d865": {
          "model_module": "@jupyter-widgets/controls",
          "model_name": "DescriptionStyleModel",
          "state": {
            "_view_name": "StyleView",
            "_model_name": "DescriptionStyleModel",
            "description_width": "",
            "_view_module": "@jupyter-widgets/base",
            "_model_module_version": "1.5.0",
            "_view_count": null,
            "_view_module_version": "1.2.0",
            "_model_module": "@jupyter-widgets/controls"
          }
        },
        "8a1572d605d54b4ea6bb7d8e3077e0ae": {
          "model_module": "@jupyter-widgets/base",
          "model_name": "LayoutModel",
          "state": {
            "_view_name": "LayoutView",
            "grid_template_rows": null,
            "right": null,
            "justify_content": null,
            "_view_module": "@jupyter-widgets/base",
            "overflow": null,
            "_model_module_version": "1.2.0",
            "_view_count": null,
            "flex_flow": null,
            "width": null,
            "min_width": null,
            "border": null,
            "align_items": null,
            "bottom": null,
            "_model_module": "@jupyter-widgets/base",
            "top": null,
            "grid_column": null,
            "overflow_y": null,
            "overflow_x": null,
            "grid_auto_flow": null,
            "grid_area": null,
            "grid_template_columns": null,
            "flex": null,
            "_model_name": "LayoutModel",
            "justify_items": null,
            "grid_row": null,
            "max_height": null,
            "align_content": null,
            "visibility": null,
            "align_self": null,
            "height": null,
            "min_height": null,
            "padding": null,
            "grid_auto_rows": null,
            "grid_gap": null,
            "max_width": null,
            "order": null,
            "_view_module_version": "1.2.0",
            "grid_template_areas": null,
            "object_position": null,
            "object_fit": null,
            "grid_auto_columns": null,
            "margin": null,
            "display": null,
            "left": null
          }
        },
        "806ceef8c736467ca6d8bfbbc039bfbd": {
          "model_module": "@jupyter-widgets/controls",
          "model_name": "HBoxModel",
          "state": {
            "_view_name": "HBoxView",
            "_dom_classes": [],
            "_model_name": "HBoxModel",
            "_view_module": "@jupyter-widgets/controls",
            "_model_module_version": "1.5.0",
            "_view_count": null,
            "_view_module_version": "1.5.0",
            "box_style": "",
            "layout": "IPY_MODEL_ed012d29ecb245ecbc7fec0d8e94f6da",
            "_model_module": "@jupyter-widgets/controls",
            "children": [
              "IPY_MODEL_93c233deb29d474c97df5fc030c28ff8",
              "IPY_MODEL_2a0fe6d49bb14501815c66835e3ac24f"
            ]
          }
        },
        "ed012d29ecb245ecbc7fec0d8e94f6da": {
          "model_module": "@jupyter-widgets/base",
          "model_name": "LayoutModel",
          "state": {
            "_view_name": "LayoutView",
            "grid_template_rows": null,
            "right": null,
            "justify_content": null,
            "_view_module": "@jupyter-widgets/base",
            "overflow": null,
            "_model_module_version": "1.2.0",
            "_view_count": null,
            "flex_flow": null,
            "width": null,
            "min_width": null,
            "border": null,
            "align_items": null,
            "bottom": null,
            "_model_module": "@jupyter-widgets/base",
            "top": null,
            "grid_column": null,
            "overflow_y": null,
            "overflow_x": null,
            "grid_auto_flow": null,
            "grid_area": null,
            "grid_template_columns": null,
            "flex": null,
            "_model_name": "LayoutModel",
            "justify_items": null,
            "grid_row": null,
            "max_height": null,
            "align_content": null,
            "visibility": null,
            "align_self": null,
            "height": null,
            "min_height": null,
            "padding": null,
            "grid_auto_rows": null,
            "grid_gap": null,
            "max_width": null,
            "order": null,
            "_view_module_version": "1.2.0",
            "grid_template_areas": null,
            "object_position": null,
            "object_fit": null,
            "grid_auto_columns": null,
            "margin": null,
            "display": null,
            "left": null
          }
        },
        "93c233deb29d474c97df5fc030c28ff8": {
          "model_module": "@jupyter-widgets/controls",
          "model_name": "FloatProgressModel",
          "state": {
            "_view_name": "ProgressView",
            "style": "IPY_MODEL_fb953b0934784a4a93460b2df0494863",
            "_dom_classes": [],
            "description": "Progress:: 100%",
            "_model_name": "FloatProgressModel",
            "bar_style": "success",
            "max": 8400,
            "_view_module": "@jupyter-widgets/controls",
            "_model_module_version": "1.5.0",
            "value": 8400,
            "_view_count": null,
            "_view_module_version": "1.5.0",
            "orientation": "horizontal",
            "min": 0,
            "description_tooltip": null,
            "_model_module": "@jupyter-widgets/controls",
            "layout": "IPY_MODEL_5aa27a84e39c43b9a533933f1acf3184"
          }
        },
        "2a0fe6d49bb14501815c66835e3ac24f": {
          "model_module": "@jupyter-widgets/controls",
          "model_name": "HTMLModel",
          "state": {
            "_view_name": "HTMLView",
            "style": "IPY_MODEL_e4fac2119b2c4a09acf01238c346e55b",
            "_dom_classes": [],
            "description": "",
            "_model_name": "HTMLModel",
            "placeholder": "​",
            "_view_module": "@jupyter-widgets/controls",
            "_model_module_version": "1.5.0",
            "value": " 8400/8400 [07:00&lt;00:00, 19.97it/s]",
            "_view_count": null,
            "_view_module_version": "1.5.0",
            "description_tooltip": null,
            "_model_module": "@jupyter-widgets/controls",
            "layout": "IPY_MODEL_ebb44929b4ed4518b2667493f5f23734"
          }
        },
        "fb953b0934784a4a93460b2df0494863": {
          "model_module": "@jupyter-widgets/controls",
          "model_name": "ProgressStyleModel",
          "state": {
            "_view_name": "StyleView",
            "_model_name": "ProgressStyleModel",
            "description_width": "initial",
            "_view_module": "@jupyter-widgets/base",
            "_model_module_version": "1.5.0",
            "_view_count": null,
            "_view_module_version": "1.2.0",
            "bar_color": null,
            "_model_module": "@jupyter-widgets/controls"
          }
        },
        "5aa27a84e39c43b9a533933f1acf3184": {
          "model_module": "@jupyter-widgets/base",
          "model_name": "LayoutModel",
          "state": {
            "_view_name": "LayoutView",
            "grid_template_rows": null,
            "right": null,
            "justify_content": null,
            "_view_module": "@jupyter-widgets/base",
            "overflow": null,
            "_model_module_version": "1.2.0",
            "_view_count": null,
            "flex_flow": null,
            "width": null,
            "min_width": null,
            "border": null,
            "align_items": null,
            "bottom": null,
            "_model_module": "@jupyter-widgets/base",
            "top": null,
            "grid_column": null,
            "overflow_y": null,
            "overflow_x": null,
            "grid_auto_flow": null,
            "grid_area": null,
            "grid_template_columns": null,
            "flex": null,
            "_model_name": "LayoutModel",
            "justify_items": null,
            "grid_row": null,
            "max_height": null,
            "align_content": null,
            "visibility": null,
            "align_self": null,
            "height": null,
            "min_height": null,
            "padding": null,
            "grid_auto_rows": null,
            "grid_gap": null,
            "max_width": null,
            "order": null,
            "_view_module_version": "1.2.0",
            "grid_template_areas": null,
            "object_position": null,
            "object_fit": null,
            "grid_auto_columns": null,
            "margin": null,
            "display": null,
            "left": null
          }
        },
        "e4fac2119b2c4a09acf01238c346e55b": {
          "model_module": "@jupyter-widgets/controls",
          "model_name": "DescriptionStyleModel",
          "state": {
            "_view_name": "StyleView",
            "_model_name": "DescriptionStyleModel",
            "description_width": "",
            "_view_module": "@jupyter-widgets/base",
            "_model_module_version": "1.5.0",
            "_view_count": null,
            "_view_module_version": "1.2.0",
            "_model_module": "@jupyter-widgets/controls"
          }
        },
        "ebb44929b4ed4518b2667493f5f23734": {
          "model_module": "@jupyter-widgets/base",
          "model_name": "LayoutModel",
          "state": {
            "_view_name": "LayoutView",
            "grid_template_rows": null,
            "right": null,
            "justify_content": null,
            "_view_module": "@jupyter-widgets/base",
            "overflow": null,
            "_model_module_version": "1.2.0",
            "_view_count": null,
            "flex_flow": null,
            "width": null,
            "min_width": null,
            "border": null,
            "align_items": null,
            "bottom": null,
            "_model_module": "@jupyter-widgets/base",
            "top": null,
            "grid_column": null,
            "overflow_y": null,
            "overflow_x": null,
            "grid_auto_flow": null,
            "grid_area": null,
            "grid_template_columns": null,
            "flex": null,
            "_model_name": "LayoutModel",
            "justify_items": null,
            "grid_row": null,
            "max_height": null,
            "align_content": null,
            "visibility": null,
            "align_self": null,
            "height": null,
            "min_height": null,
            "padding": null,
            "grid_auto_rows": null,
            "grid_gap": null,
            "max_width": null,
            "order": null,
            "_view_module_version": "1.2.0",
            "grid_template_areas": null,
            "object_position": null,
            "object_fit": null,
            "grid_auto_columns": null,
            "margin": null,
            "display": null,
            "left": null
          }
        },
        "879fb11f9e5b4cbab66d91f2a055eba2": {
          "model_module": "@jupyter-widgets/controls",
          "model_name": "HBoxModel",
          "state": {
            "_view_name": "HBoxView",
            "_dom_classes": [],
            "_model_name": "HBoxModel",
            "_view_module": "@jupyter-widgets/controls",
            "_model_module_version": "1.5.0",
            "_view_count": null,
            "_view_module_version": "1.5.0",
            "box_style": "",
            "layout": "IPY_MODEL_f76a97e8aa544026a86495fc356c4bed",
            "_model_module": "@jupyter-widgets/controls",
            "children": [
              "IPY_MODEL_5b679cef4ddd43b1bf592a29af417004",
              "IPY_MODEL_793d02bbddfd48f6a38cee6d0c85a796"
            ]
          }
        },
        "f76a97e8aa544026a86495fc356c4bed": {
          "model_module": "@jupyter-widgets/base",
          "model_name": "LayoutModel",
          "state": {
            "_view_name": "LayoutView",
            "grid_template_rows": null,
            "right": null,
            "justify_content": null,
            "_view_module": "@jupyter-widgets/base",
            "overflow": null,
            "_model_module_version": "1.2.0",
            "_view_count": null,
            "flex_flow": null,
            "width": null,
            "min_width": null,
            "border": null,
            "align_items": null,
            "bottom": null,
            "_model_module": "@jupyter-widgets/base",
            "top": null,
            "grid_column": null,
            "overflow_y": null,
            "overflow_x": null,
            "grid_auto_flow": null,
            "grid_area": null,
            "grid_template_columns": null,
            "flex": null,
            "_model_name": "LayoutModel",
            "justify_items": null,
            "grid_row": null,
            "max_height": null,
            "align_content": null,
            "visibility": null,
            "align_self": null,
            "height": null,
            "min_height": null,
            "padding": null,
            "grid_auto_rows": null,
            "grid_gap": null,
            "max_width": null,
            "order": null,
            "_view_module_version": "1.2.0",
            "grid_template_areas": null,
            "object_position": null,
            "object_fit": null,
            "grid_auto_columns": null,
            "margin": null,
            "display": null,
            "left": null
          }
        },
        "5b679cef4ddd43b1bf592a29af417004": {
          "model_module": "@jupyter-widgets/controls",
          "model_name": "FloatProgressModel",
          "state": {
            "_view_name": "ProgressView",
            "style": "IPY_MODEL_bb4505b4cf764577a8f36bc6d5595466",
            "_dom_classes": [],
            "description": "Progress:: 100%",
            "_model_name": "FloatProgressModel",
            "bar_style": "success",
            "max": 3600,
            "_view_module": "@jupyter-widgets/controls",
            "_model_module_version": "1.5.0",
            "value": 3600,
            "_view_count": null,
            "_view_module_version": "1.5.0",
            "orientation": "horizontal",
            "min": 0,
            "description_tooltip": null,
            "_model_module": "@jupyter-widgets/controls",
            "layout": "IPY_MODEL_c855cafec9e145479569c0d49bda3f72"
          }
        },
        "793d02bbddfd48f6a38cee6d0c85a796": {
          "model_module": "@jupyter-widgets/controls",
          "model_name": "HTMLModel",
          "state": {
            "_view_name": "HTMLView",
            "style": "IPY_MODEL_03d4af3925924ad3948323ba2c23bb0b",
            "_dom_classes": [],
            "description": "",
            "_model_name": "HTMLModel",
            "placeholder": "​",
            "_view_module": "@jupyter-widgets/controls",
            "_model_module_version": "1.5.0",
            "value": " 3600/3600 [05:54&lt;00:00, 10.15it/s]",
            "_view_count": null,
            "_view_module_version": "1.5.0",
            "description_tooltip": null,
            "_model_module": "@jupyter-widgets/controls",
            "layout": "IPY_MODEL_3ffdf0e734604caa97b0d24dd7b247e9"
          }
        },
        "bb4505b4cf764577a8f36bc6d5595466": {
          "model_module": "@jupyter-widgets/controls",
          "model_name": "ProgressStyleModel",
          "state": {
            "_view_name": "StyleView",
            "_model_name": "ProgressStyleModel",
            "description_width": "initial",
            "_view_module": "@jupyter-widgets/base",
            "_model_module_version": "1.5.0",
            "_view_count": null,
            "_view_module_version": "1.2.0",
            "bar_color": null,
            "_model_module": "@jupyter-widgets/controls"
          }
        },
        "c855cafec9e145479569c0d49bda3f72": {
          "model_module": "@jupyter-widgets/base",
          "model_name": "LayoutModel",
          "state": {
            "_view_name": "LayoutView",
            "grid_template_rows": null,
            "right": null,
            "justify_content": null,
            "_view_module": "@jupyter-widgets/base",
            "overflow": null,
            "_model_module_version": "1.2.0",
            "_view_count": null,
            "flex_flow": null,
            "width": null,
            "min_width": null,
            "border": null,
            "align_items": null,
            "bottom": null,
            "_model_module": "@jupyter-widgets/base",
            "top": null,
            "grid_column": null,
            "overflow_y": null,
            "overflow_x": null,
            "grid_auto_flow": null,
            "grid_area": null,
            "grid_template_columns": null,
            "flex": null,
            "_model_name": "LayoutModel",
            "justify_items": null,
            "grid_row": null,
            "max_height": null,
            "align_content": null,
            "visibility": null,
            "align_self": null,
            "height": null,
            "min_height": null,
            "padding": null,
            "grid_auto_rows": null,
            "grid_gap": null,
            "max_width": null,
            "order": null,
            "_view_module_version": "1.2.0",
            "grid_template_areas": null,
            "object_position": null,
            "object_fit": null,
            "grid_auto_columns": null,
            "margin": null,
            "display": null,
            "left": null
          }
        },
        "03d4af3925924ad3948323ba2c23bb0b": {
          "model_module": "@jupyter-widgets/controls",
          "model_name": "DescriptionStyleModel",
          "state": {
            "_view_name": "StyleView",
            "_model_name": "DescriptionStyleModel",
            "description_width": "",
            "_view_module": "@jupyter-widgets/base",
            "_model_module_version": "1.5.0",
            "_view_count": null,
            "_view_module_version": "1.2.0",
            "_model_module": "@jupyter-widgets/controls"
          }
        },
        "3ffdf0e734604caa97b0d24dd7b247e9": {
          "model_module": "@jupyter-widgets/base",
          "model_name": "LayoutModel",
          "state": {
            "_view_name": "LayoutView",
            "grid_template_rows": null,
            "right": null,
            "justify_content": null,
            "_view_module": "@jupyter-widgets/base",
            "overflow": null,
            "_model_module_version": "1.2.0",
            "_view_count": null,
            "flex_flow": null,
            "width": null,
            "min_width": null,
            "border": null,
            "align_items": null,
            "bottom": null,
            "_model_module": "@jupyter-widgets/base",
            "top": null,
            "grid_column": null,
            "overflow_y": null,
            "overflow_x": null,
            "grid_auto_flow": null,
            "grid_area": null,
            "grid_template_columns": null,
            "flex": null,
            "_model_name": "LayoutModel",
            "justify_items": null,
            "grid_row": null,
            "max_height": null,
            "align_content": null,
            "visibility": null,
            "align_self": null,
            "height": null,
            "min_height": null,
            "padding": null,
            "grid_auto_rows": null,
            "grid_gap": null,
            "max_width": null,
            "order": null,
            "_view_module_version": "1.2.0",
            "grid_template_areas": null,
            "object_position": null,
            "object_fit": null,
            "grid_auto_columns": null,
            "margin": null,
            "display": null,
            "left": null
          }
        },
        "877662c4a01a4517878e22fe3d293488": {
          "model_module": "@jupyter-widgets/controls",
          "model_name": "HBoxModel",
          "state": {
            "_view_name": "HBoxView",
            "_dom_classes": [],
            "_model_name": "HBoxModel",
            "_view_module": "@jupyter-widgets/controls",
            "_model_module_version": "1.5.0",
            "_view_count": null,
            "_view_module_version": "1.5.0",
            "box_style": "",
            "layout": "IPY_MODEL_4c2cd89e2b2e4dabafc768fe0d896b7c",
            "_model_module": "@jupyter-widgets/controls",
            "children": [
              "IPY_MODEL_de59bebfcee64882b11833077541c4a0",
              "IPY_MODEL_fcd7d9f8bdd84024b6e31e67169f2260"
            ]
          }
        },
        "4c2cd89e2b2e4dabafc768fe0d896b7c": {
          "model_module": "@jupyter-widgets/base",
          "model_name": "LayoutModel",
          "state": {
            "_view_name": "LayoutView",
            "grid_template_rows": null,
            "right": null,
            "justify_content": null,
            "_view_module": "@jupyter-widgets/base",
            "overflow": null,
            "_model_module_version": "1.2.0",
            "_view_count": null,
            "flex_flow": null,
            "width": null,
            "min_width": null,
            "border": null,
            "align_items": null,
            "bottom": null,
            "_model_module": "@jupyter-widgets/base",
            "top": null,
            "grid_column": null,
            "overflow_y": null,
            "overflow_x": null,
            "grid_auto_flow": null,
            "grid_area": null,
            "grid_template_columns": null,
            "flex": null,
            "_model_name": "LayoutModel",
            "justify_items": null,
            "grid_row": null,
            "max_height": null,
            "align_content": null,
            "visibility": null,
            "align_self": null,
            "height": null,
            "min_height": null,
            "padding": null,
            "grid_auto_rows": null,
            "grid_gap": null,
            "max_width": null,
            "order": null,
            "_view_module_version": "1.2.0",
            "grid_template_areas": null,
            "object_position": null,
            "object_fit": null,
            "grid_auto_columns": null,
            "margin": null,
            "display": null,
            "left": null
          }
        },
        "de59bebfcee64882b11833077541c4a0": {
          "model_module": "@jupyter-widgets/controls",
          "model_name": "FloatProgressModel",
          "state": {
            "_view_name": "ProgressView",
            "style": "IPY_MODEL_4a4ab80064054a62ab20f50b59bc5bec",
            "_dom_classes": [],
            "description": "Progress:: 100%",
            "_model_name": "FloatProgressModel",
            "bar_style": "success",
            "max": 8400,
            "_view_module": "@jupyter-widgets/controls",
            "_model_module_version": "1.5.0",
            "value": 8400,
            "_view_count": null,
            "_view_module_version": "1.5.0",
            "orientation": "horizontal",
            "min": 0,
            "description_tooltip": null,
            "_model_module": "@jupyter-widgets/controls",
            "layout": "IPY_MODEL_9137dfc28ea944a9b592e875ca53cc1e"
          }
        },
        "fcd7d9f8bdd84024b6e31e67169f2260": {
          "model_module": "@jupyter-widgets/controls",
          "model_name": "HTMLModel",
          "state": {
            "_view_name": "HTMLView",
            "style": "IPY_MODEL_4ac7aa7e31aa4bc8ae56ae3c942e717d",
            "_dom_classes": [],
            "description": "",
            "_model_name": "HTMLModel",
            "placeholder": "​",
            "_view_module": "@jupyter-widgets/controls",
            "_model_module_version": "1.5.0",
            "value": " 8400/8400 [00:12&lt;00:00, 672.37it/s]",
            "_view_count": null,
            "_view_module_version": "1.5.0",
            "description_tooltip": null,
            "_model_module": "@jupyter-widgets/controls",
            "layout": "IPY_MODEL_c207a3f71d874ff1b2632be6153e3f3a"
          }
        },
        "4a4ab80064054a62ab20f50b59bc5bec": {
          "model_module": "@jupyter-widgets/controls",
          "model_name": "ProgressStyleModel",
          "state": {
            "_view_name": "StyleView",
            "_model_name": "ProgressStyleModel",
            "description_width": "initial",
            "_view_module": "@jupyter-widgets/base",
            "_model_module_version": "1.5.0",
            "_view_count": null,
            "_view_module_version": "1.2.0",
            "bar_color": null,
            "_model_module": "@jupyter-widgets/controls"
          }
        },
        "9137dfc28ea944a9b592e875ca53cc1e": {
          "model_module": "@jupyter-widgets/base",
          "model_name": "LayoutModel",
          "state": {
            "_view_name": "LayoutView",
            "grid_template_rows": null,
            "right": null,
            "justify_content": null,
            "_view_module": "@jupyter-widgets/base",
            "overflow": null,
            "_model_module_version": "1.2.0",
            "_view_count": null,
            "flex_flow": null,
            "width": null,
            "min_width": null,
            "border": null,
            "align_items": null,
            "bottom": null,
            "_model_module": "@jupyter-widgets/base",
            "top": null,
            "grid_column": null,
            "overflow_y": null,
            "overflow_x": null,
            "grid_auto_flow": null,
            "grid_area": null,
            "grid_template_columns": null,
            "flex": null,
            "_model_name": "LayoutModel",
            "justify_items": null,
            "grid_row": null,
            "max_height": null,
            "align_content": null,
            "visibility": null,
            "align_self": null,
            "height": null,
            "min_height": null,
            "padding": null,
            "grid_auto_rows": null,
            "grid_gap": null,
            "max_width": null,
            "order": null,
            "_view_module_version": "1.2.0",
            "grid_template_areas": null,
            "object_position": null,
            "object_fit": null,
            "grid_auto_columns": null,
            "margin": null,
            "display": null,
            "left": null
          }
        },
        "4ac7aa7e31aa4bc8ae56ae3c942e717d": {
          "model_module": "@jupyter-widgets/controls",
          "model_name": "DescriptionStyleModel",
          "state": {
            "_view_name": "StyleView",
            "_model_name": "DescriptionStyleModel",
            "description_width": "",
            "_view_module": "@jupyter-widgets/base",
            "_model_module_version": "1.5.0",
            "_view_count": null,
            "_view_module_version": "1.2.0",
            "_model_module": "@jupyter-widgets/controls"
          }
        },
        "c207a3f71d874ff1b2632be6153e3f3a": {
          "model_module": "@jupyter-widgets/base",
          "model_name": "LayoutModel",
          "state": {
            "_view_name": "LayoutView",
            "grid_template_rows": null,
            "right": null,
            "justify_content": null,
            "_view_module": "@jupyter-widgets/base",
            "overflow": null,
            "_model_module_version": "1.2.0",
            "_view_count": null,
            "flex_flow": null,
            "width": null,
            "min_width": null,
            "border": null,
            "align_items": null,
            "bottom": null,
            "_model_module": "@jupyter-widgets/base",
            "top": null,
            "grid_column": null,
            "overflow_y": null,
            "overflow_x": null,
            "grid_auto_flow": null,
            "grid_area": null,
            "grid_template_columns": null,
            "flex": null,
            "_model_name": "LayoutModel",
            "justify_items": null,
            "grid_row": null,
            "max_height": null,
            "align_content": null,
            "visibility": null,
            "align_self": null,
            "height": null,
            "min_height": null,
            "padding": null,
            "grid_auto_rows": null,
            "grid_gap": null,
            "max_width": null,
            "order": null,
            "_view_module_version": "1.2.0",
            "grid_template_areas": null,
            "object_position": null,
            "object_fit": null,
            "grid_auto_columns": null,
            "margin": null,
            "display": null,
            "left": null
          }
        }
      }
    }
  },
  "cells": [
    {
      "cell_type": "markdown",
      "metadata": {
        "id": "XumnKJefvBK3"
      },
      "source": [
        "# <img src=\"../images/sberbank.png\">\n",
        "# <center> Лабораторная 3 </center>\n",
        "## <center> Предсказание пола клиента по транзакциям</center>\n",
        "\n",
        "## Описание задачи \n",
        "### В роли метрики выступает [ROC AUC](https://dyakonov.org/2017/07/28/auc-roc-%D0%BF%D0%BB%D0%BE%D1%89%D0%B0%D0%B4%D1%8C-%D0%BF%D0%BE%D0%B4-%D0%BA%D1%80%D0%B8%D0%B2%D0%BE%D0%B9-%D0%BE%D1%88%D0%B8%D0%B1%D0%BE%D0%BA/), который и нужно будет оптимизировать."
      ]
    },
    {
      "cell_type": "code",
      "metadata": {
        "colab": {
          "base_uri": "https://localhost:8080/"
        },
        "id": "ObLCsQ0gwsC1",
        "outputId": "52bd497e-7c31-4292-de57-427d304d7d66"
      },
      "source": [
        "import pandas as pd\n",
        "import numpy as np\n",
        "import math\n",
        "from sklearn.ensemble import RandomForestRegressor\n",
        "from sklearn.model_selection import train_test_split\n",
        "\n",
        "from google.colab import files\n",
        "\n",
        "import seaborn as sns\n",
        "import matplotlib.pyplot as plt\n",
        "\n",
        "import os\n",
        "\n",
        "def uploadddd():\n",
        "  uploaded = files.upload()\n",
        "\n",
        "  for fn in uploaded.keys():\n",
        "    print('User uploaded file \"{name}\" with length {length} bytes'.format(\n",
        "        name=fn, length=len(uploaded[fn])))\n",
        "\n",
        "def print_full(x):\n",
        "    pd.set_option('display.max_rows', len(x))\n",
        "    print(x)\n",
        "    pd.reset_option('display.max_rows')\n",
        "    \n",
        "# files1 = [ 'tr_mcc_codes.csv', 'tr_types.csv', 'transactions.csv', 'gender_train.csv', 'gender_test.csv', 'basic_features_submission.csv', 'submission_advanced.csv']\n",
        "files1 = [ 'tr_mcc_codes.csv', 'tr_types.csv', 'transactions.csv', 'gender_train.csv', 'gender_test.csv', 'basic_features_submission.csv']\n",
        "\n",
        "for file in files1:\n",
        "  while True:\n",
        "    print('select file:', file)\n",
        "    if  os.path.isfile(file):\n",
        "      break\n",
        "    uploadddd()"
      ],
      "execution_count": null,
      "outputs": [
        {
          "output_type": "stream",
          "text": [
            "select file: tr_mcc_codes.csv\n",
            "select file: tr_types.csv\n",
            "select file: transactions.csv\n",
            "select file: gender_train.csv\n",
            "select file: gender_test.csv\n",
            "select file: basic_features_submission.csv\n"
          ],
          "name": "stdout"
        }
      ]
    },
    {
      "cell_type": "code",
      "metadata": {
        "ExecuteTime": {
          "end_time": "2019-03-05T17:34:52.054851Z",
          "start_time": "2019-03-05T17:34:51.515762Z"
        },
        "colab": {
          "base_uri": "https://localhost:8080/"
        },
        "id": "MSgUKrXnvBK7",
        "outputId": "eb8e9b63-0cf8-4611-d19a-888ad18b5784"
      },
      "source": [
        "import pandas as pd\n",
        "import numpy as np\n",
        "import xgboost as xgb\n",
        "import re\n",
        "import matplotlib.pyplot as plt\n",
        "\n",
        "from tqdm._tqdm_notebook import tqdm_notebook\n",
        "from warnings import filterwarnings\n",
        "\n",
        "%matplotlib inline\n",
        "filterwarnings('ignore')"
      ],
      "execution_count": null,
      "outputs": [
        {
          "output_type": "stream",
          "text": [
            "/usr/local/lib/python3.7/dist-packages/ipykernel_launcher.py:7: TqdmDeprecationWarning: This function will be removed in tqdm==5.0.0\n",
            "Please use `tqdm.notebook.*` instead of `tqdm._tqdm_notebook.*`\n",
            "  import sys\n"
          ],
          "name": "stderr"
        }
      ]
    },
    {
      "cell_type": "code",
      "metadata": {
        "ExecuteTime": {
          "end_time": "2019-03-05T17:34:58.314241Z",
          "start_time": "2019-03-05T17:34:52.056205Z"
        },
        "scrolled": true,
        "id": "bp5oAA6bvBK8"
      },
      "source": [
        "# Считываем данные\n",
        "tr_mcc_codes = pd.read_csv('tr_mcc_codes.csv', sep=';', index_col='mcc_code')\n",
        "tr_types = pd.read_csv('tr_types.csv', sep=';', index_col='tr_type')\n",
        "\n",
        "transactions = pd.read_csv('transactions.csv', index_col='customer_id')\n",
        "gender_train = pd.read_csv('gender_train.csv', index_col='customer_id')\n",
        "gender_test = pd.read_csv('gender_test.csv', index_col='customer_id')\n",
        "transactions_train = transactions.join(gender_train, how='inner')\n",
        "transactions_test = transactions.join(gender_test, how='inner')\n",
        "\n",
        "del transactions"
      ],
      "execution_count": null,
      "outputs": []
    },
    {
      "cell_type": "code",
      "metadata": {
        "ExecuteTime": {
          "end_time": "2019-03-05T17:34:58.354996Z",
          "start_time": "2019-03-05T17:34:58.315591Z"
        },
        "id": "AWhdzlNjvBK9"
      },
      "source": [
        "# Функции, которыми можно пользоваться для построения классификатора, \n",
        "# оценки его результатов и построение прогноза для тестовой части пользователей\n",
        "\n",
        "# Cross-validation score (среднее значение метрики ROC AUC на тренировочных данных)\n",
        "def cv_score(params, train, y_true):\n",
        "    cv_res=xgb.cv(params, xgb.DMatrix(train, y_true),\n",
        "                  early_stopping_rounds=10, maximize=True, \n",
        "                  num_boost_round=10000, nfold=5, stratified=True)\n",
        "    index_argmax = cv_res['test-auc-mean'].argmax()\n",
        "    print('Cross-validation, ROC AUC: {:.3f}+-{:.3f}, Trees: {}'.format(cv_res.loc[index_argmax]['test-auc-mean'],\n",
        "                                                                        cv_res.loc[index_argmax]['test-auc-std'],\n",
        "                                                                        index_argmax))\n",
        "\n",
        "# Построение модели + возврат результатов классификации тестовых пользователей\n",
        "def fit_predict(params, num_trees, train, test, target):\n",
        "    params['learning_rate'] = params['eta']\n",
        "    clf = xgb.train(params, xgb.DMatrix(train.values, target, feature_names=list(train.columns)), \n",
        "                    num_boost_round=num_trees, maximize=True)\n",
        "    y_pred = clf.predict(xgb.DMatrix(test.values, feature_names=list(train.columns)))\n",
        "    submission = pd.DataFrame(index=test.index, data=y_pred, columns=['probability'])\n",
        "    return clf, submission\n",
        "\n",
        "# Отрисовка важности переменных. Важность переменной - количество разбиений выборки, \n",
        "# в которых участвует данная переменная. Чем больше - тем она, вероятно, лучше \n",
        "def draw_feature_importances(clf, top_k=10):\n",
        "    plt.figure(figsize=(10, 10))\n",
        "    \n",
        "    importances = dict(sorted(clf.get_score().items(), key=lambda x: x[1])[-top_k:])\n",
        "    y_pos = np.arange(len(importances))\n",
        "    \n",
        "    plt.barh(y_pos, list(importances.values()), align='center', color='green')\n",
        "    plt.yticks(y_pos, importances.keys(), fontsize=12)\n",
        "    plt.xticks(fontsize=12)\n",
        "    plt.xlabel('Feature importance', fontsize=15)\n",
        "    plt.title('Features importances, Sberbank Gender Prediction', fontsize=18)\n",
        "    plt.ylim(-0.5, len(importances) - 0.5)\n",
        "    plt.show()"
      ],
      "execution_count": null,
      "outputs": []
    },
    {
      "cell_type": "markdown",
      "metadata": {
        "id": "4vUUhTVGvBK-"
      },
      "source": [
        "### Так как код для оценки модели на тренировочных данных и её применения на тестовых данных уже дан, то мы будем работать над тем, чтобы создать переменные для улучшения результатов моделирования. \n",
        "\n",
        "### (!) В рамках данного задания Вы можете делать всё, что угодно - использовать другие алгоритмы и/или их комбинации, подбирать гиперпараметры своих моделей, отбирать переменые, etc. Мы создали шаблон для простоты и для Вашего понимания верхнеуровневого процесса разработки модели, опустив при этом большое число деталей."
      ]
    },
    {
      "cell_type": "markdown",
      "metadata": {
        "id": "J6i8K4p3vBK-"
      },
      "source": [
        "## Basic features\n",
        "Начнём с того, что сформируем базовые переменные по каждому пользователю. На этом этапе будем использовать стандартные агрегации, посчитанные на расходах и приходах клиента:\n",
        "- минимум\n",
        "- максимум\n",
        "- среднее\n",
        "- медиана\n",
        "- среднеквадратичное отклонение\n",
        "- количество\n",
        "\n",
        "Также параметры модели выберем стандартные, запишем их в словарь params, и будем использовать для дальнейшего построения модели (не забывайте, что с этим Вы можете тоже экспериментировать)."
      ]
    },
    {
      "cell_type": "code",
      "metadata": {
        "ExecuteTime": {
          "end_time": "2019-03-05T17:34:58.362104Z",
          "start_time": "2019-03-05T17:34:58.356308Z"
        },
        "id": "vgdkq6RovBK_"
      },
      "source": [
        "params = {\n",
        "    'eta': 0.1,\n",
        "    'max_depth': 3,\n",
        "    'subsample': 0.8,\n",
        "    'colsample_bytree': 0.8,\n",
        "    \n",
        "    'gamma': 0,\n",
        "    'lambda': 0,\n",
        "    'alpha': 0,\n",
        "    'min_child_weight': 0,\n",
        "    \n",
        "    'eval_metric': 'auc',\n",
        "    'objective': 'binary:logistic' ,\n",
        "    'booster': 'gbtree',\n",
        "    'njobs': -1,\n",
        "    'tree_method': 'approx'\n",
        "}"
      ],
      "execution_count": null,
      "outputs": []
    },
    {
      "cell_type": "code",
      "metadata": {
        "ExecuteTime": {
          "end_time": "2019-03-05T17:35:41.272300Z",
          "start_time": "2019-03-05T17:34:58.363622Z"
        },
        "colab": {
          "base_uri": "https://localhost:8080/",
          "height": 118,
          "referenced_widgets": [
            "a166fd31551a4d5ea84b35ee871cb62a",
            "b7a1dc9d0f514351a8deadcd0ebed403",
            "636ddcfe6e1e452b8e9f4607181c99f7",
            "4536604dea574a16b2db319e91a3ddc3",
            "fa865fd1e9ac4742aa1d59de03fd96a0",
            "6b3e9f2f200d4084b12f40472756ba48",
            "cca88c8e6e4449149a6de90d76d5df93",
            "2829544a0c594210ad8deefea565e17e",
            "3990981e98bb40cb9385ddd1ee4be7ba",
            "245772ac8907457288f552855b8a10fa",
            "b7bb9ae80cb64a8082dc143138a94d18",
            "687398cb0f1743888db8a55b65e3f438",
            "b97e1d6d27414694b07613f9c53da4f3",
            "47419ca7ac5b42dab86fdb221f6de15c",
            "c61351c290144e66a5a6a1b592b8d865",
            "8a1572d605d54b4ea6bb7d8e3077e0ae"
          ]
        },
        "id": "w7501_oLvBK_",
        "outputId": "2d767ef9-001f-4804-c320-faf5e81ee5d1"
      },
      "source": [
        "tqdm_notebook.pandas(desc=\"Progress:\")\n",
        "\n",
        "def features_creation_basic(x): \n",
        "    features = []\n",
        "    features.append(pd.Series(x[x['amount']>0]['amount'].agg(['min', 'max', 'mean', 'median', 'std', 'count'])\\\n",
        "                                                        .add_prefix('positive_transactions_')))\n",
        "    features.append(pd.Series(x[x['amount']<0]['amount'].agg(['min', 'max', 'mean', 'median', 'std', 'count'])\\\n",
        "                                                        .add_prefix('negative_transactions_')))\n",
        " \n",
        "    return pd.concat(features)\n",
        "\n",
        "data_train = transactions_train.groupby(transactions_train.index).progress_apply(features_creation_basic)\n",
        "data_test = transactions_test.groupby(transactions_test.index).progress_apply(features_creation_basic)"
      ],
      "execution_count": null,
      "outputs": [
        {
          "output_type": "display_data",
          "data": {
            "application/vnd.jupyter.widget-view+json": {
              "model_id": "a166fd31551a4d5ea84b35ee871cb62a",
              "version_minor": 0,
              "version_major": 2
            },
            "text/plain": [
              "HBox(children=(FloatProgress(value=0.0, description='Progress:', max=8400.0, style=ProgressStyle(description_w…"
            ]
          },
          "metadata": {
            "tags": []
          }
        },
        {
          "output_type": "stream",
          "text": [
            "\n"
          ],
          "name": "stdout"
        },
        {
          "output_type": "display_data",
          "data": {
            "application/vnd.jupyter.widget-view+json": {
              "model_id": "3990981e98bb40cb9385ddd1ee4be7ba",
              "version_minor": 0,
              "version_major": 2
            },
            "text/plain": [
              "HBox(children=(FloatProgress(value=0.0, description='Progress:', max=3600.0, style=ProgressStyle(description_w…"
            ]
          },
          "metadata": {
            "tags": []
          }
        },
        {
          "output_type": "stream",
          "text": [
            "\n"
          ],
          "name": "stdout"
        }
      ]
    },
    {
      "cell_type": "code",
      "metadata": {
        "ExecuteTime": {
          "end_time": "2019-03-05T17:35:45.011046Z",
          "start_time": "2019-03-05T17:35:41.273326Z"
        },
        "colab": {
          "base_uri": "https://localhost:8080/"
        },
        "id": "mfmH7nHsvBLA",
        "outputId": "be333e07-90ef-4ce2-d45d-1dae90880a6b"
      },
      "source": [
        "target = data_train.join(gender_train, how='inner')['gender']\n",
        "cv_score(params, data_train, target)"
      ],
      "execution_count": null,
      "outputs": [
        {
          "output_type": "stream",
          "text": [
            "Cross-validation, ROC AUC: 0.619+-0.004, Trees: 55\n"
          ],
          "name": "stdout"
        }
      ]
    },
    {
      "cell_type": "code",
      "metadata": {
        "ExecuteTime": {
          "end_time": "2019-03-05T17:35:45.714620Z",
          "start_time": "2019-03-05T17:35:45.018570Z"
        },
        "id": "PwvRTZImvBLA"
      },
      "source": [
        "### Число деревьев для XGBoost имеет смысл выставлять по результатам на кросс-валидации \n",
        "clf, submission = fit_predict(params, 70, data_train, data_test, target)"
      ],
      "execution_count": null,
      "outputs": []
    },
    {
      "cell_type": "code",
      "metadata": {
        "ExecuteTime": {
          "end_time": "2019-03-05T17:35:45.897370Z",
          "start_time": "2019-03-05T17:35:45.719320Z"
        },
        "scrolled": false,
        "colab": {
          "base_uri": "https://localhost:8080/",
          "height": 634
        },
        "id": "CUIOrbZjvBLA",
        "outputId": "c85effef-58a7-4fc3-e0f4-749b06bc086f"
      },
      "source": [
        "draw_feature_importances(clf, 10)"
      ],
      "execution_count": null,
      "outputs": [
        {
          "output_type": "display_data",
          "data": {
            "image/png": "[encoded data removed]",
            "text/plain": [
              "<Figure size 720x720 with 1 Axes>"
            ]
          },
          "metadata": {
            "tags": [],
            "needs_background": "light"
          }
        }
      ]
    },
    {
      "cell_type": "code",
      "metadata": {
        "id": "m_YVN78EvBLC"
      },
      "source": [
        "submission.to_csv('basic_features_submission.csv')"
      ],
      "execution_count": null,
      "outputs": []
    },
    {
      "cell_type": "markdown",
      "metadata": {
        "id": "_erEwiyDvBLC"
      },
      "source": [
        "### Видим, что результат на кросс-валидации - 62.5% ROC AUC."
      ]
    },
    {
      "cell_type": "markdown",
      "metadata": {
        "id": "1md0SiDMvBLC"
      },
      "source": [
        "## Advanced features\n",
        "Добавим дополнительные переменные по каждому пользователю в модель. <br>\n",
        "Для этого будем анализировать дни недели, часы и состояние дня/ночи во время покупки - в каждом из случаев будем считать частоту транзакций в соответствующей категории относитеьно всех остальных категорий. <br>\n",
        "То есть если, например, клиент в 70% случае совершал ночные траты, то мы получим вектор [0.7, 0.3] для этого случая в качестве частот транзакций ночью/днём."
      ]
    },
    {
      "cell_type": "code",
      "metadata": {
        "ExecuteTime": {
          "end_time": "2019-03-05T17:35:57.677748Z",
          "start_time": "2019-03-05T17:35:45.921444Z"
        },
        "id": "2MJcc-8bvBLC"
      },
      "source": [
        "for df in [transactions_train, transactions_test]:\n",
        "    df['day'] = df['tr_datetime'].str.split().apply(lambda x: int(x[0]) % 7)\n",
        "    df['hour'] = df['tr_datetime'].apply(lambda x: re.search(' \\d*', x).group(0)).astype(int)\n",
        "    df['night'] = ~df['hour'].between(6, 22).astype(int)"
      ],
      "execution_count": null,
      "outputs": []
    },
    {
      "cell_type": "code",
      "metadata": {
        "ExecuteTime": {
          "end_time": "2019-03-05T17:35:57.687397Z",
          "start_time": "2019-03-05T17:35:57.678823Z"
        },
        "id": "YhUA9XgEvBLD"
      },
      "source": [
        "def features_creation_advanced(x): \n",
        "    features = []\n",
        "    features.append(pd.Series(x['day'].value_counts(normalize=True).add_prefix('day_')))\n",
        "    features.append(pd.Series(x['hour'].value_counts(normalize=True).add_prefix('hour_')))\n",
        "    features.append(pd.Series(x['night'].value_counts(normalize=True).add_prefix('night_')))\n",
        "    features.append(pd.Series(x[x['amount']>0]['amount'].agg(['min', 'max', 'mean', 'median', 'std', 'count'])\\\n",
        "                                                        .add_prefix('positive_transactions_')))\n",
        "    features.append(pd.Series(x[x['amount']<0]['amount'].agg(['min', 'max', 'mean', 'median', 'std', 'count'])\\\n",
        "                                                        .add_prefix('negative_transactions_')))\n",
        " \n",
        "    return pd.concat(features)"
      ],
      "execution_count": null,
      "outputs": []
    },
    {
      "cell_type": "code",
      "metadata": {
        "ExecuteTime": {
          "end_time": "2019-03-05T17:37:19.784321Z",
          "start_time": "2019-03-05T17:35:57.688448Z"
        },
        "colab": {
          "base_uri": "https://localhost:8080/",
          "height": 118,
          "referenced_widgets": [
            "806ceef8c736467ca6d8bfbbc039bfbd",
            "ed012d29ecb245ecbc7fec0d8e94f6da",
            "93c233deb29d474c97df5fc030c28ff8",
            "2a0fe6d49bb14501815c66835e3ac24f",
            "fb953b0934784a4a93460b2df0494863",
            "5aa27a84e39c43b9a533933f1acf3184",
            "e4fac2119b2c4a09acf01238c346e55b",
            "ebb44929b4ed4518b2667493f5f23734",
            "879fb11f9e5b4cbab66d91f2a055eba2",
            "f76a97e8aa544026a86495fc356c4bed",
            "5b679cef4ddd43b1bf592a29af417004",
            "793d02bbddfd48f6a38cee6d0c85a796",
            "bb4505b4cf764577a8f36bc6d5595466",
            "c855cafec9e145479569c0d49bda3f72",
            "03d4af3925924ad3948323ba2c23bb0b",
            "3ffdf0e734604caa97b0d24dd7b247e9"
          ]
        },
        "id": "keEDV05kvBLD",
        "outputId": "aac6033e-311e-43b0-9f94-321887bc0138"
      },
      "source": [
        "data_train = transactions_train.groupby(transactions_train.index)\\\n",
        "                               .progress_apply(features_creation_advanced).unstack(-1)\n",
        "data_test = transactions_test.groupby(transactions_test.index)\\\n",
        "                             .progress_apply(features_creation_advanced).unstack(-1)"
      ],
      "execution_count": null,
      "outputs": [
        {
          "output_type": "display_data",
          "data": {
            "application/vnd.jupyter.widget-view+json": {
              "model_id": "806ceef8c736467ca6d8bfbbc039bfbd",
              "version_minor": 0,
              "version_major": 2
            },
            "text/plain": [
              "HBox(children=(FloatProgress(value=0.0, description='Progress:', max=8400.0, style=ProgressStyle(description_w…"
            ]
          },
          "metadata": {
            "tags": []
          }
        },
        {
          "output_type": "stream",
          "text": [
            "\n"
          ],
          "name": "stdout"
        },
        {
          "output_type": "display_data",
          "data": {
            "application/vnd.jupyter.widget-view+json": {
              "model_id": "879fb11f9e5b4cbab66d91f2a055eba2",
              "version_minor": 0,
              "version_major": 2
            },
            "text/plain": [
              "HBox(children=(FloatProgress(value=0.0, description='Progress:', max=3600.0, style=ProgressStyle(description_w…"
            ]
          },
          "metadata": {
            "tags": []
          }
        },
        {
          "output_type": "stream",
          "text": [
            "\n"
          ],
          "name": "stdout"
        }
      ]
    },
    {
      "cell_type": "code",
      "metadata": {
        "ExecuteTime": {
          "end_time": "2019-03-05T17:37:27.200528Z",
          "start_time": "2019-03-05T17:37:19.785535Z"
        },
        "colab": {
          "base_uri": "https://localhost:8080/"
        },
        "id": "QsUAxzSvvBLD",
        "outputId": "c62c6cf8-78b7-4deb-9b99-b9dbe67f5c53"
      },
      "source": [
        "target = data_train.join(gender_train, how='inner')['gender']\n",
        "cv_score(params, data_train, target)"
      ],
      "execution_count": null,
      "outputs": [
        {
          "output_type": "stream",
          "text": [
            "Cross-validation, ROC AUC: 0.682+-0.007, Trees: 175\n"
          ],
          "name": "stdout"
        }
      ]
    },
    {
      "cell_type": "code",
      "metadata": {
        "ExecuteTime": {
          "end_time": "2019-03-05T17:37:28.307548Z",
          "start_time": "2019-03-05T17:37:27.205214Z"
        },
        "id": "thgATI4kvBLD"
      },
      "source": [
        "### Число деревьев для XGBoost имеет смысл выятавлять по результатам на кросс-валидации \n",
        "clf, submission = fit_predict(params, 70, data_train, data_test, target)"
      ],
      "execution_count": null,
      "outputs": []
    },
    {
      "cell_type": "code",
      "metadata": {
        "ExecuteTime": {
          "end_time": "2019-03-05T17:37:28.426836Z",
          "start_time": "2019-03-05T17:37:28.308620Z"
        },
        "scrolled": false,
        "colab": {
          "base_uri": "https://localhost:8080/",
          "height": 634
        },
        "id": "L2mTp82dvBLD",
        "outputId": "a4f1dfdb-2643-42b5-8523-9d3fee5bc1d2"
      },
      "source": [
        "draw_feature_importances(clf, 10)"
      ],
      "execution_count": null,
      "outputs": [
        {
          "output_type": "display_data",
          "data": {
            "image/png": "[encoded data removed]",
            "text/plain": [
              "<Figure size 720x720 with 1 Axes>"
            ]
          },
          "metadata": {
            "tags": [],
            "needs_background": "light"
          }
        }
      ]
    },
    {
      "cell_type": "markdown",
      "metadata": {
        "heading_collapsed": true,
        "id": "VeCY-QnRvBLE"
      },
      "source": [
        "### Добавление новых переменных улучшило наши результаты ROC AUC с 62.5% до 68.2%, на тестовой выборке результат будет аналогичным, так что мы явно не переобучились. При этом есть куда стремиться!"
      ]
    },
    {
      "cell_type": "code",
      "metadata": {
        "ExecuteTime": {
          "end_time": "2019-03-05T17:37:28.448839Z",
          "start_time": "2019-03-05T17:37:28.438234Z"
        },
        "id": "ZLzay2J-vBLE"
      },
      "source": [
        "submission.to_csv('submission_advanced.csv')"
      ],
      "execution_count": null,
      "outputs": []
    },
    {
      "cell_type": "markdown",
      "metadata": {
        "id": "GHUhPYrLvBLE"
      },
      "source": [
        "# (!) Цель задания:\n",
        "## Полученная модель должна иметь ROC AUC на Public-части тестовой выборки (на лидерборде) не менее 80%."
      ]
    },
    {
      "cell_type": "markdown",
      "metadata": {
        "id": "p-NcrgMxHRqD"
      },
      "source": [
        "---"
      ]
    },
    {
      "cell_type": "code",
      "metadata": {
        "colab": {
          "base_uri": "https://localhost:8080/"
        },
        "id": "rkD_IyCRHTBz",
        "outputId": "47ef4d4e-62f6-471c-fd0a-2ec3fdf4b956"
      },
      "source": [
        "df = transactions_train\n",
        "df.info()"
      ],
      "execution_count": null,
      "outputs": [
        {
          "output_type": "stream",
          "text": [
            "<class 'pandas.core.frame.DataFrame'>\n",
            "Int64Index: 3751083 entries, 22899 to 99999680\n",
            "Data columns (total 9 columns):\n",
            " #   Column       Dtype  \n",
            "---  ------       -----  \n",
            " 0   tr_datetime  object \n",
            " 1   mcc_code     int64  \n",
            " 2   tr_type      int64  \n",
            " 3   amount       float64\n",
            " 4   term_id      object \n",
            " 5   gender       int64  \n",
            " 6   day          int64  \n",
            " 7   hour         int64  \n",
            " 8   night        int64  \n",
            "dtypes: float64(1), int64(6), object(2)\n",
            "memory usage: 286.2+ MB\n"
          ],
          "name": "stdout"
        }
      ]
    },
    {
      "cell_type": "code",
      "metadata": {
        "colab": {
          "base_uri": "https://localhost:8080/"
        },
        "id": "-hxFQ9jzIErv",
        "outputId": "bff1867a-9d47-4714-fbce-4ec784580bbd"
      },
      "source": [
        "col = 'amount'\n",
        "print(len(df[col].unique()))\n",
        "print('% NaN =', len(df[df[col].isna()]) / len(df[col]))"
      ],
      "execution_count": null,
      "outputs": [
        {
          "output_type": "stream",
          "text": [
            "247004\n",
            "% NaN = 0.0\n"
          ],
          "name": "stdout"
        }
      ]
    },
    {
      "cell_type": "markdown",
      "metadata": {
        "id": "8zwmEiyRIeeX"
      },
      "source": [
        "---"
      ]
    },
    {
      "cell_type": "code",
      "metadata": {
        "id": "X0os-yfqIfM_"
      },
      "source": [
        "def foo(elem): \n",
        "\n",
        "    result = elem.groupby('mcc_code')['amount'].mean()\n",
        "    result.index = result.index.map(lambda e: 'mcc_code_mean' + str(e))\n",
        "    # print(result)\n",
        "    # print('---')\n",
        "    \n",
        "    return result"
      ],
      "execution_count": null,
      "outputs": []
    },
    {
      "cell_type": "markdown",
      "metadata": {
        "id": "eRexETKpWvmR"
      },
      "source": [
        "![изображение.png](data:image/png;base64,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)"
      ]
    },
    {
      "cell_type": "code",
      "metadata": {
        "colab": {
          "base_uri": "https://localhost:8080/",
          "height": 86,
          "referenced_widgets": [
            "877662c4a01a4517878e22fe3d293488",
            "4c2cd89e2b2e4dabafc768fe0d896b7c",
            "de59bebfcee64882b11833077541c4a0",
            "fcd7d9f8bdd84024b6e31e67169f2260",
            "4a4ab80064054a62ab20f50b59bc5bec",
            "9137dfc28ea944a9b592e875ca53cc1e",
            "4ac7aa7e31aa4bc8ae56ae3c942e717d",
            "c207a3f71d874ff1b2632be6153e3f3a"
          ]
        },
        "id": "5hn8r170IghA",
        "outputId": "2ac7b304-41f6-4b55-ca0a-3c851c211c39"
      },
      "source": [
        "df = transactions_train.groupby(transactions_train.index).progress_apply(foo).unstack()\n",
        "target = df.join(gender_train, how='inner')['gender']\n",
        "cv_score(params, df, target)"
      ],
      "execution_count": null,
      "outputs": [
        {
          "output_type": "display_data",
          "data": {
            "application/vnd.jupyter.widget-view+json": {
              "model_id": "877662c4a01a4517878e22fe3d293488",
              "version_minor": 0,
              "version_major": 2
            },
            "text/plain": [
              "HBox(children=(FloatProgress(value=0.0, description='Progress:', max=8400.0, style=ProgressStyle(description_w…"
            ]
          },
          "metadata": {
            "tags": []
          }
        },
        {
          "output_type": "stream",
          "text": [
            "\n",
            "Cross-validation, ROC AUC: 0.850+-0.006, Trees: 360\n"
          ],
          "name": "stdout"
        }
      ]
    },
    {
      "cell_type": "markdown",
      "metadata": {
        "id": "AtEmSuWTKw0V"
      },
      "source": [
        "ROC AUC > 0.8\n",
        "\n",
        "ГОТОВО"
      ]
    }
  ]
}